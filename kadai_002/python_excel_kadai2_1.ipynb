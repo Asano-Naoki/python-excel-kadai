{
  "nbformat": 4,
  "nbformat_minor": 0,
  "metadata": {
    "colab": {
      "provenance": [],
      "authorship_tag": "ABX9TyPL5u0dYK3tOHI3Hczr8/YJ",
      "include_colab_link": true
    },
    "kernelspec": {
      "name": "python3",
      "display_name": "Python 3"
    },
    "language_info": {
      "name": "python"
    }
  },
  "cells": [
    {
      "cell_type": "markdown",
      "metadata": {
        "id": "view-in-github",
        "colab_type": "text"
      },
      "source": [
        "<a href=\"https://colab.research.google.com/github/Asano-Naoki/python-excel-kadai/blob/main/kadai_002/python_excel_kadai2_1.ipynb\" target=\"_parent\"><img src=\"https://colab.research.google.com/assets/colab-badge.svg\" alt=\"Open In Colab\"/></a>"
      ]
    },
    {
      "cell_type": "code",
      "execution_count": 25,
      "metadata": {
        "colab": {
          "base_uri": "https://localhost:8080/"
        },
        "id": "OyGHFcgjx8b-",
        "outputId": "a6a42f64-b254-4de8-cfbf-5dddd935051f"
      },
      "outputs": [
        {
          "output_type": "stream",
          "name": "stderr",
          "text": [
            "<ipython-input-25-d08309e11ddb>:16: FutureWarning: save is not part of the public API, usage can give unexpected results and will be removed in a future version\n",
            "  writer.save()\n"
          ]
        }
      ],
      "source": [
        "import pandas as pd\n",
        "\n",
        "# Excelファイルを読み込む\n",
        "df1 = pd.read_excel('sales.xlsx')\n",
        "df2 = pd.read_excel('client_list.xlsx')\n",
        "\n",
        "# 従業員数が10名以下かつ住所が東京都のデータを抽出する\n",
        "filter = df1[(df1['従業員数'] <= 10) & (df1['住所'].str.startswith('東京都'))]\n",
        "\n",
        "# 顧客番号を基に、売上管理表のデータを結合する\n",
        "result = pd.merge(filter, df2)\n",
        "\n",
        "# データを新規Excelファイルに書き込み、保存する\n",
        "writer = pd.ExcelWriter('output.xlsx')\n",
        "result.to_excel(writer, sheet_name='Sheet1', index=False)\n",
        "writer.save()\n",
        "\n"
      ]
    },
    {
      "cell_type": "code",
      "source": [],
      "metadata": {
        "id": "VnuNI7bgzLbb"
      },
      "execution_count": null,
      "outputs": []
    }
  ]
}