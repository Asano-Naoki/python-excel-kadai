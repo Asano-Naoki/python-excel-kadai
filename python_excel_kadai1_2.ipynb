{
  "nbformat": 4,
  "nbformat_minor": 0,
  "metadata": {
    "colab": {
      "provenance": [],
      "authorship_tag": "ABX9TyPxRMiTjBW+KemH4DH7Po4A",
      "include_colab_link": true
    },
    "kernelspec": {
      "name": "python3",
      "display_name": "Python 3"
    },
    "language_info": {
      "name": "python"
    }
  },
  "cells": [
    {
      "cell_type": "markdown",
      "metadata": {
        "id": "view-in-github",
        "colab_type": "text"
      },
      "source": [
        "<a href=\"https://colab.research.google.com/github/Asano-Naoki/python-excel-kadai/blob/main/python_excel_kadai1_2.ipynb\" target=\"_parent\"><img src=\"https://colab.research.google.com/assets/colab-badge.svg\" alt=\"Open In Colab\"/></a>"
      ]
    },
    {
      "cell_type": "code",
      "execution_count": 2,
      "metadata": {
        "id": "Gq29l1jibgE5"
      },
      "outputs": [],
      "source": [
        "import openpyxl\n",
        "from datetime import datetime\n",
        "\n",
        "# ワークブックとシートの作成\n",
        "workbook = openpyxl.Workbook()\n",
        "sheet = workbook.active\n",
        "\n",
        "# 会社名などの固定データの設定\n",
        "company_name = '株式会社ABC'\n",
        "address = '〒101-0022 東京都千代田区神田練塀町300'\n",
        "tel_fax = 'TEL:03-1234-5678 FAX:03-1234-5678'\n",
        "person_name = '担当者名:鈴木一郎 様'\n",
        "number = '0001'\n",
        "\n",
        "# 日付の設定\n",
        "date = today = datetime.today().strftime('%Y/%m/%d')\n",
        "\n",
        "# 商品データの設定\n",
        "header = ['商品名', '数量', '単価', '金額']\n",
        "data = [\n",
        "    ['商品A', 3, 10000],\n",
        "    ['商品B', 4, 15000],\n",
        "]\n",
        "\n",
        "# 固定データと日付の書き込み\n",
        "sheet['B2'] = '請求書'\n",
        "sheet['B4'] = company_name\n",
        "sheet['B5'] = address\n",
        "sheet['B6'] = tel_fax\n",
        "sheet['B7'] = person_name\n",
        "sheet['F4'] = 'No.'\n",
        "sheet['G4'] = number\n",
        "sheet['F5'] = '日付'\n",
        "sheet['G5'] = date\n",
        "\n",
        "# 商品ヘッダーの書き込み\n",
        "sheet.cell(row=10, column=2, value=header[0])\n",
        "sheet.cell(row=10, column=3, value=header[1])\n",
        "sheet.cell(row=10, column=4, value=header[2])\n",
        "sheet.cell(row=10, column=5, value=header[3])\n",
        "\n",
        "# 商品データを書き込みつつ金額を合計\n",
        "start_row = 11\n",
        "sum = 0\n",
        "for i, datum in enumerate(data):\n",
        "    amount = datum[1]*datum[2]\n",
        "    sheet.cell(row=i+start_row, column=2, value=datum[0])\n",
        "    sheet.cell(row=i+start_row, column=3, value=datum[1])\n",
        "    sheet.cell(row=i+start_row, column=4, value=datum[2])\n",
        "    sheet.cell(row=i+start_row, column=5, value=amount)\n",
        "    sum += amount\n",
        "\n",
        "# 合計等の書き込み\n",
        "last_row_of_item = sheet.max_row \n",
        "sheet.cell(row=last_row_of_item+1, column=5, value=sum)\n",
        "sheet.cell(row=last_row_of_item+3, column=2, value='合計')\n",
        "sheet.cell(row=last_row_of_item+3, column=5, value=sum)\n",
        "sheet.cell(row=last_row_of_item+4, column=2, value='消費税')\n",
        "sheet.cell(row=last_row_of_item+4, column=5, value=sum*0.1)\n",
        "sheet.cell(row=last_row_of_item+5, column=2, value='税込合計')\n",
        "sheet.cell(row=last_row_of_item+5, column=5, value=sum*1.1)\n",
        "\n",
        "# ワークブックの保存\n",
        "workbook.save(\"請求書_更新.xlsx\")\n",
        "\n"
      ]
    },
    {
      "cell_type": "code",
      "source": [],
      "metadata": {
        "id": "dDFVjnweb5jg"
      },
      "execution_count": null,
      "outputs": []
    }
  ]
}